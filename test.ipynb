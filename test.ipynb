{
 "cells": [
  {
   "cell_type": "markdown",
   "metadata": {},
   "source": [
    "### 开发工具\n",
    "1. 管理虚拟环境, Anaconda3\n",
    "2. ide写代码, vscode/pycharm/jupyter"
   ]
  },
  {
   "cell_type": "markdown",
   "metadata": {},
   "source": [
    "### 遇到不会的怎么办？\n",
    "1. 百度谷歌\n",
    "2. 官方文档\n",
    "3. 函数定义"
   ]
  },
  {
   "cell_type": "code",
   "execution_count": null,
   "metadata": {},
   "outputs": [],
   "source": [
    "import pandas as pd\n",
    "\n",
    "list_a = [1,2,3,]\n",
    "pd_a = pd.DataFrame(list_a)\n",
    "\n",
    "pd_a.drop()"
   ]
  },
  {
   "cell_type": "code",
   "execution_count": null,
   "metadata": {},
   "outputs": [],
   "source": [
    "# https://sites.google.com/view/fiqa/\n",
    "# 1. python 加载json到字典\n",
    "# 2. pandas 把数据整理为csv表格（[n*2]）\n"
   ]
  },
  {
   "cell_type": "markdown",
   "metadata": {},
   "source": [
    "\n",
    "conda env list  \n",
    "conda create -n env_name python=3.8  \n",
    "conda activate env_name  \n",
    "pip install jupyter numpy pandas  \n"
   ]
  }
 ],
 "metadata": {
  "interpreter": {
   "hash": "a1e4e903caaed38b6acc800d51547e90a4972cbfdd500e0b5d5e45ecb4c1f411"
  },
  "kernelspec": {
   "display_name": "Python 3.8.12 64-bit ('cpm': conda)",
   "language": "python",
   "name": "python3"
  },
  "language_info": {
   "codemirror_mode": {
    "name": "ipython",
    "version": 3
   },
   "file_extension": ".py",
   "mimetype": "text/x-python",
   "name": "python",
   "nbconvert_exporter": "python",
   "pygments_lexer": "ipython3",
   "version": "3.7.11"
  },
  "orig_nbformat": 4
 },
 "nbformat": 4,
 "nbformat_minor": 2
}
