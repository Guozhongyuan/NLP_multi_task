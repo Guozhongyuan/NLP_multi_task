{
 "cells": [
  {
   "cell_type": "code",
   "execution_count": 1,
   "metadata": {},
   "outputs": [],
   "source": [
    "import json\n",
    "from data.samplers import RandomSampler\n",
    "from torch.utils.data import TensorDataset\n",
    "from tqdm import tqdm\n",
    "import os\n",
    "import random"
   ]
  },
  {
   "cell_type": "code",
   "execution_count": 6,
   "metadata": {},
   "outputs": [],
   "source": [
    "filename = '../nlpdata/tnews_public/dev.json'\n",
    "\n",
    "objs = []\n",
    "with open(filename, 'r') as fin:\n",
    "    for line in fin:\n",
    "        objs.append(json.loads(line.strip()))\n",
    "\n",
    "objs_financial = []\n",
    "objs_others = []\n",
    "\n",
    "for _, obj in enumerate(objs):\n",
    "    if obj['label_desc'] == 'news_finance':\n",
    "        objs_financial.append(obj)\n",
    "    else:\n",
    "        objs_others.append(obj)\n",
    "\n",
    "num = min(len(objs_financial), len(objs_others))\n",
    "\n",
    "objs = []\n",
    "objs.extend(objs_financial[:num])\n",
    "objs.extend(objs_others[:num])\n",
    "\n",
    "random.shuffle(objs)\n",
    "\n",
    "filename = '../nlpdata/tnews_public/test_financial.json'\n",
    "\n",
    "with open(filename, 'w') as fout:\n",
    "    for obj in objs:\n",
    "        line = json.dumps(obj, ensure_ascii=False)\n",
    "        fout.write(line)\n",
    "        fout.write('\\n')"
   ]
  }
 ],
 "metadata": {
  "interpreter": {
   "hash": "cf426626c1747c2231e550496924bf3d6568132865084069abb416574bffa72a"
  },
  "kernelspec": {
   "display_name": "Python 3.8.12 64-bit ('cpm': conda)",
   "language": "python",
   "name": "python3"
  },
  "language_info": {
   "codemirror_mode": {
    "name": "ipython",
    "version": 3
   },
   "file_extension": ".py",
   "mimetype": "text/x-python",
   "name": "python",
   "nbconvert_exporter": "python",
   "pygments_lexer": "ipython3",
   "version": "3.8.12"
  },
  "orig_nbformat": 4
 },
 "nbformat": 4,
 "nbformat_minor": 2
}
