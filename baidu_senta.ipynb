{
 "cells": [
  {
   "cell_type": "code",
   "execution_count": 20,
   "metadata": {},
   "outputs": [
    {
     "name": "stdout",
     "output_type": "stream",
     "text": [
      "['ernie_1.0_skep_large_ch', 'ernie_2.0_skep_large_en', 'roberta_skep_large_en']\n",
      "['sentiment_classify', 'aspect_sentiment_classify', 'extraction']\n"
     ]
    }
   ],
   "source": [
    "from senta import Senta\n",
    "\n",
    "my_senta = Senta()\n",
    "\n",
    "# 获取目前支持的情感预训练模型, 我们开放了以ERNIE 1.0 large(中文)、ERNIE 2.0 large(英文)和RoBERTa large(英文)作为初始化的SKEP模型\n",
    "print(my_senta.get_support_model()) # [\"ernie_1.0_skep_large_ch\", \"ernie_2.0_skep_large_en\", \"roberta_skep_large_en\"]\n",
    "\n",
    "# 获取目前支持的预测任务\n",
    "print(my_senta.get_support_task()) # [\"sentiment_classify\", \"aspect_sentiment_classify\", \"extraction\"]\n",
    "\n",
    "# 选择是否使用gpu\n",
    "use_cuda = False # 设置True or False"
   ]
  },
  {
   "cell_type": "code",
   "execution_count": 21,
   "metadata": {},
   "outputs": [
    {
     "name": "stderr",
     "output_type": "stream",
     "text": [
      "W1219 23:10:17.567364 1828906 api.cc:121] The paddle::NativeConfig interface is going to be deprecated in the next release, plase use the latest paddle_infer::Config instead.\n",
      "W1219 23:10:17.567626 1828906 api_impl.cc:404] Deprecated. Please use CreatePredictor instead.\n"
     ]
    }
   ],
   "source": [
    "# 预测中文句子级情感分类任务\n",
    "my_senta.init_model(model_class=\"ernie_1.0_skep_large_ch\", task=\"sentiment_classify\", use_cuda=use_cuda)"
   ]
  },
  {
   "cell_type": "code",
   "execution_count": 22,
   "metadata": {},
   "outputs": [
    {
     "name": "stdout",
     "output_type": "stream",
     "text": [
      "negative\n"
     ]
    }
   ],
   "source": [
    "texts = \"你是不是傻\"\n",
    "result = my_senta.predict(texts)\n",
    "print(result[0][1])"
   ]
  },
  {
   "cell_type": "code",
   "execution_count": null,
   "metadata": {},
   "outputs": [],
   "source": [
    "# 预测中文评价对象级的情感分类任务\n",
    "my_senta.init_model(model_class=\"ernie_1.0_skep_large_ch\", task=\"aspect_sentiment_classify\", use_cuda=use_cuda)\n",
    "texts = [\"百度是一家高科技公司\"]\n",
    "aspects = [\"百度\"]\n",
    "result = my_senta.predict(texts, aspects)\n",
    "print(result)\n",
    "\n",
    "# 预测中文观点抽取任务\n",
    "my_senta.init_model(model_class=\"ernie_1.0_skep_large_ch\", task=\"extraction\", use_cuda=use_cuda)\n",
    "texts = [\"唐 家 三 少 ， 本 名 张 威 。\"]\n",
    "result = my_senta.predict(texts, aspects)\n",
    "print(result)\n",
    "\n",
    "# 预测英文句子级情感分类任务（基于SKEP-ERNIE2.0模型）\n",
    "my_senta.init_model(model_class=\"ernie_2.0_skep_large_en\", task=\"sentiment_classify\", use_cuda=use_cuda)\n",
    "texts = [\"a sometimes tedious film .\"]\n",
    "result = my_senta.predict(texts)\n",
    "print(result)\n",
    "\n",
    "# 预测英文评价对象级的情感分类任务（基于SKEP-ERNIE2.0模型）\n",
    "my_senta.init_model(model_class=\"ernie_2.0_skep_large_en\", task=\"aspect_sentiment_classify\", use_cuda=use_cuda)\n",
    "texts = [\"I love the operating system and the preloaded software.\"]\n",
    "aspects = [\"operating system\"]\n",
    "result = my_senta.predict(texts, aspects)\n",
    "print(result)\n",
    "\n",
    "# 预测英文观点抽取任务（基于SKEP-ERNIE2.0模型）\n",
    "my_senta.init_model(model_class=\"ernie_2.0_skep_large_en\", task=\"extraction\", use_cuda=use_cuda)\n",
    "texts = [\"The JCC would be very pleased to welcome your organization as a corporate sponsor .\"]\n",
    "result = my_senta.predict(texts)\n",
    "print(result)\n",
    "\n",
    "# 预测英文句子级情感分类任务（基于SKEP-RoBERTa模型）\n",
    "my_senta.init_model(model_class=\"roberta_skep_large_en\", task=\"sentiment_classify\", use_cuda=use_cuda)\n",
    "texts = [\"a sometimes tedious film .\"]\n",
    "result = my_senta.predict(texts)\n",
    "print(result)\n",
    "\n",
    "# 预测英文评价对象级的情感分类任务（基于SKEP-RoBERTa模型）\n",
    "my_senta.init_model(model_class=\"roberta_skep_large_en\", task=\"aspect_sentiment_classify\", use_cuda=use_cuda)\n",
    "texts = [\"I love the operating system and the preloaded software.\"]\n",
    "aspects = [\"operating system\"]\n",
    "result = my_senta.predict(texts, aspects)\n",
    "print(result)\n",
    "\n",
    "# 预测英文观点抽取任务（基于SKEP-RoBERTa模型）\n",
    "my_senta.init_model(model_class=\"roberta_skep_large_en\", task=\"extraction\", use_cuda=use_cuda)\n",
    "texts = [\"The JCC would be very pleased to welcome your organization as a corporate sponsor .\"]\n",
    "result = my_senta.predict(texts)\n",
    "print(result)"
   ]
  }
 ],
 "metadata": {
  "interpreter": {
   "hash": "cf426626c1747c2231e550496924bf3d6568132865084069abb416574bffa72a"
  },
  "kernelspec": {
   "display_name": "Python 3.8.12 64-bit ('cpm': conda)",
   "language": "python",
   "name": "python3"
  },
  "language_info": {
   "codemirror_mode": {
    "name": "ipython",
    "version": 3
   },
   "file_extension": ".py",
   "mimetype": "text/x-python",
   "name": "python",
   "nbconvert_exporter": "python",
   "pygments_lexer": "ipython3",
   "version": "3.7.11"
  },
  "orig_nbformat": 4
 },
 "nbformat": 4,
 "nbformat_minor": 2
}
