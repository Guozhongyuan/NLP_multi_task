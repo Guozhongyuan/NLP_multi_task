{
 "cells": [
  {
   "cell_type": "code",
   "execution_count": 1,
   "metadata": {},
   "outputs": [],
   "source": [
    "import torch\n",
    "import torch.nn as nn\n",
    "import numpy as np\n",
    "from GPT2 import GPT2Model, GPT2Tokenizer\n",
    "\n",
    "import os\n",
    "os.environ['CUDA_VISIBLE_DEVICES'] = '0'\n",
    "device = 'cuda' #'cuda'\n",
    "\n",
    "tokenizer = GPT2Tokenizer(\n",
    "    'GPT2/bpe/vocab.json',\n",
    "    'GPT2/bpe/chinese_vocab.model',\n",
    "    max_len=512)"
   ]
  },
  {
   "cell_type": "code",
   "execution_count": 2,
   "metadata": {},
   "outputs": [],
   "source": [
    "class GPT2classification(nn.Module):\n",
    "    def __init__(self):\n",
    "        super(GPT2classification, self).__init__()\n",
    "        \n",
    "        self.GPT2model = GPT2Model(\n",
    "                            vocab_size=30000,\n",
    "                            layer_size=12,\n",
    "                            block_size=1024,\n",
    "                            embedding_dropout=0.0,\n",
    "                            embedding_size=768,\n",
    "                            num_attention_heads=12,\n",
    "                            attention_dropout=0.0,\n",
    "                            residual_dropout=0.0)\n",
    "\n",
    "        self.mlp =  nn.Sequential(\n",
    "                nn.Linear(30000, 512),  # 256, 512\n",
    "                nn.ReLU(),\n",
    "                nn.Linear(512, 256),  # 512, 256\n",
    "                nn.ReLU(),\n",
    "                nn.Linear(256, 2),  # 256, 2\n",
    "            )\n",
    "\n",
    "\n",
    "    def forward(self, x, length):\n",
    "        x = self.GPT2model(x)\n",
    "        classify = []\n",
    "        for i in range(len(length)):\n",
    "            classify.append(x[i, length[i]].view(-1))\n",
    "        classify = torch.stack(classify)\n",
    "        x = self.mlp(classify)\n",
    "        return x"
   ]
  },
  {
   "cell_type": "code",
   "execution_count": 3,
   "metadata": {},
   "outputs": [],
   "source": [
    "import json\n",
    "from data.samplers import RandomSampler\n",
    "from torch.utils.data import TensorDataset\n",
    "from tqdm import tqdm\n",
    "\n",
    "def load_tnews_data(data_path, data_type, tokenizer, few_shot=False, seq_length=1024):\n",
    "\n",
    "    filename = os.path.join(data_path, data_type+'.json')\n",
    "    objs = []\n",
    "    with open(filename) as fin:\n",
    "        for line in fin:\n",
    "            objs.append(json.loads(line.strip()))\n",
    "\n",
    "    pad_id = tokenizer.encoder['<pad>']\n",
    "\n",
    "    all_tokens = []\n",
    "    all_last_idx = []\n",
    "    all_labels = []\n",
    "    \n",
    "    for _, obj in enumerate(objs):\n",
    "        sentence = obj['sentence']\n",
    "        tokenized_sentence = tokenizer.encode(sentence)[:seq_length-20]\n",
    "        if obj['label_desc'] == 'news_finance':\n",
    "            label = 1\n",
    "        else:\n",
    "            label = 0\n",
    "\n",
    "        all_labels.append(label)\n",
    "\n",
    "        tokens = tokenized_sentence\n",
    "        token_length = len(tokens)\n",
    "        tokens.extend([pad_id] * (seq_length - token_length))\n",
    "\n",
    "        all_last_idx.append(token_length)\n",
    "        all_tokens.append(tokens)\n",
    "    \n",
    "    all_tokens = torch.tensor(all_tokens, dtype=torch.long)\n",
    "    all_last_idx = torch.tensor(all_last_idx, dtype=torch.long)\n",
    "    all_labels = torch.tensor(all_labels, dtype=torch.long)\n",
    "    \n",
    "    dataset = TensorDataset(all_tokens, all_last_idx, all_labels)\n",
    "\n",
    "    return dataset\n",
    "  \n",
    "def collect_fcn(batch):\n",
    "    bs = len(batch)\n",
    "    batch_tokens = []\n",
    "    batch_idx = []\n",
    "    batch_labels = []\n",
    "    for i in range(bs):\n",
    "        batch_tokens.append(batch[i][0])\n",
    "        batch_idx.append(batch[i][1])\n",
    "        batch_labels.append(batch[i][2])\n",
    "    batch_tokens = torch.stack(batch_tokens)\n",
    "    batch_idx = torch.stack(batch_idx)\n",
    "    batch_labels = torch.stack(batch_labels)\n",
    "\n",
    "    return batch_tokens, batch_idx, batch_labels"
   ]
  },
  {
   "cell_type": "code",
   "execution_count": null,
   "metadata": {},
   "outputs": [],
   "source": [
    "model = GPT2classification()\n",
    "state_dict = torch.load(\"./data/financial_finetune.pth\", map_location='cpu')\n",
    "model.load_state_dict(state_dict)\n",
    "model.to(device)"
   ]
  },
  {
   "cell_type": "code",
   "execution_count": 5,
   "metadata": {},
   "outputs": [
    {
     "name": "stderr",
     "output_type": "stream",
     "text": [
      "Building prefix dict from the default dictionary ...\n",
      "Loading model from cache /tmp/jieba.cache\n",
      "Loading model cost 0.692 seconds.\n",
      "Prefix dict has been built successfully.\n"
     ]
    }
   ],
   "source": [
    "test_set = load_tnews_data('../nlpdata/tnews_public', 'test_financial', tokenizer)\n",
    "sampler = RandomSampler(test_set)\n",
    "test_dataloader = torch.utils.data.DataLoader(test_set,\n",
    "                                                batch_size = 1,\n",
    "                                                sampler=sampler,\n",
    "                                                num_workers=0,\n",
    "                                                collate_fn = collect_fcn,\n",
    "                                                pin_memory=True)"
   ]
  },
  {
   "cell_type": "code",
   "execution_count": null,
   "metadata": {},
   "outputs": [],
   "source": [
    "import matplotlib.pyplot as plt\n",
    "\n",
    "num_financial = 0\n",
    "num_others = 0\n",
    "num_financial_true = 0\n",
    "num_others_true = 0\n",
    "financial_list = []\n",
    "others_list = []\n",
    "\n",
    "for i, batch in enumerate(test_dataloader):\n",
    "    token, last_idx, label = (x.to(device) for x in batch)\n",
    "    output = model(token, last_idx)\n",
    "    if label[0] == 1:\n",
    "        if output[0, 0] < output[0, 1]:\n",
    "            num_financial_true = num_financial_true + 1\n",
    "        num_financial = num_financial + 1\n",
    "        financial_list.append(output.detach().cpu().numpy())\n",
    "    else:\n",
    "        if output[0, 0] > output[0, 1]:\n",
    "            num_others_true = num_others_true + 1\n",
    "        num_others = num_others + 1\n",
    "        others_list.append(output.detach().cpu().numpy())\n",
    "    if i >= 1000:\n",
    "        break\n",
    "\n",
    "financial_list = np.array(financial_list).reshape(-1,2)\n",
    "others_list = np.array(others_list).reshape(-1,2)"
   ]
  },
  {
   "cell_type": "code",
   "execution_count": 15,
   "metadata": {},
   "outputs": [
    {
     "name": "stdout",
     "output_type": "stream",
     "text": [
      "0.8379446640316206\n",
      "0.8464646464646465\n"
     ]
    }
   ],
   "source": [
    "print(num_financial_true/num_financial)\n",
    "print(num_others_true/num_others)"
   ]
  },
  {
   "cell_type": "code",
   "execution_count": 14,
   "metadata": {},
   "outputs": [
    {
     "data": {
      "image/png": "[encoded data removed]",
      "text/plain": [
       "<Figure size 720x720 with 1 Axes>"
      ]
     },
     "metadata": {
      "needs_background": "light"
     },
     "output_type": "display_data"
    }
   ],
   "source": [
    "plt.figure(figsize=(10,10))\n",
    "plt.plot(financial_list[:, 0], financial_list[:, 1], '.', c='r', label='fianacial')\n",
    "plt.plot(others_list[:, 0], others_list[:, 1], '.', c='b', label='others')\n",
    "plt.legend(prop={'size': 20})\n",
    "plt.show()"
   ]
  }
 ],
 "metadata": {
  "interpreter": {
   "hash": "cf426626c1747c2231e550496924bf3d6568132865084069abb416574bffa72a"
  },
  "kernelspec": {
   "display_name": "Python 3.8.12 64-bit ('cpm': conda)",
   "language": "python",
   "name": "python3"
  },
  "language_info": {
   "codemirror_mode": {
    "name": "ipython",
    "version": 3
   },
   "file_extension": ".py",
   "mimetype": "text/x-python",
   "name": "python",
   "nbconvert_exporter": "python",
   "pygments_lexer": "ipython3",
   "version": "3.8.12"
  },
  "orig_nbformat": 4
 },
 "nbformat": 4,
 "nbformat_minor": 2
}
