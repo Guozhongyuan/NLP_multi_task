{
 "cells": [
  {
   "cell_type": "code",
   "execution_count": 21,
   "metadata": {},
   "outputs": [],
   "source": [
    "import torch\n",
    "import numpy as np\n",
    "from GPT2 import GPT2Model, GPT2Tokenizer\n",
    "import re\n",
    "\n",
    "import os\n",
    "os.environ['CUDA_VISIBLE_DEVICES'] = '0'\n",
    "device = 'cuda' #'cuda'\n",
    "\n",
    "model = GPT2Model(\n",
    "    vocab_size=30000,\n",
    "    layer_size=12,\n",
    "    block_size=1024,\n",
    "    embedding_dropout=0.0,\n",
    "    embedding_size=768,\n",
    "    num_attention_heads=12,\n",
    "    attention_dropout=0.0,\n",
    "    residual_dropout=0.0)\n",
    "\n",
    "state_dict = torch.load('./data/insurance.pth', map_location='cpu')\n",
    "\n",
    "model.load_state_dict(state_dict)\n",
    "model.to(device)\n",
    "model.eval()\n",
    "\n",
    "tokenizer = GPT2Tokenizer(\n",
    "    'GPT2/bpe/vocab.json',\n",
    "    'GPT2/bpe/chinese_vocab.model',\n",
    "    max_len=512)"
   ]
  },
  {
   "cell_type": "code",
   "execution_count": 22,
   "metadata": {},
   "outputs": [],
   "source": [
    "def sample(text, max_len=10):\n",
    "    ids = tokenizer.encode(text)\n",
    "    input_id = torch.tensor((np.array(ids).reshape(1, -1).astype('int64'))).to(device)\n",
    "    output, cached_kvs = model(input_id, use_cache=True)\n",
    "    nid = int(np.argmax(output[0, -1].detach().cpu().numpy()))\n",
    "    ids += [nid]\n",
    "    out = [nid]\n",
    "    for i in range(max_len):\n",
    "        input_id = torch.tensor(np.array([nid]).reshape(1, -1).astype('int64')).to(device)\n",
    "        output, cached_kvs = model(input_id, cached_kvs, use_cache=True)\n",
    "        nid = int(np.argmax(output[0, -1].detach().cpu().numpy()))\n",
    "        ids += [nid]\n",
    "        if nid==3:\n",
    "            break\n",
    "        out.append(nid)\n",
    "    return (tokenizer.decode(out))\n",
    "\n",
    "def similarity(nextstr, reslist):\n",
    "    '''\n",
    "        如果下一个字符串与之前的60%以上重复则不选取\n",
    "    '''\n",
    "    res = 0\n",
    "    for stri in reslist:\n",
    "        num = 0\n",
    "        for i in nextstr:\n",
    "            if i in stri:\n",
    "                num = num + 1\n",
    "        if num/len(nextstr) > 0.6:\n",
    "            res = 1\n",
    "    return res\n",
    "\n",
    "def ask_question(question, max_len=10):\n",
    "    '''\n",
    "        正则去标点符号，去重后拼接句子\n",
    "    '''\n",
    "    res = sample('''问题：%s 答案：''' % question, max_len)\n",
    "    res = re.findall(r\"[\\w']+\", res)\n",
    "    reslist = [res[0]] if len(res[0])>1 else []\n",
    "    for i in range(0,len(res)-1):\n",
    "        if len(res[i+1]) < 2:\n",
    "            continue\n",
    "        if similarity(res[i+1], reslist) == 0:\n",
    "            reslist.append(res[i+1])\n",
    "    res = ','.join(reslist)+'。'\n",
    "    return res if len(res) > 10 else '对不起，我不知道。'"
   ]
  },
  {
   "cell_type": "code",
   "execution_count": 47,
   "metadata": {},
   "outputs": [
    {
     "data": {
      "text/plain": [
       "'对不起，我不知道。'"
      ]
     },
     "execution_count": 47,
     "metadata": {},
     "output_type": "execute_result"
    }
   ],
   "source": [
    "ask_question('如何兑现普遍人寿保险？', max_len=40)"
   ]
  }
 ],
 "metadata": {
  "interpreter": {
   "hash": "cf426626c1747c2231e550496924bf3d6568132865084069abb416574bffa72a"
  },
  "kernelspec": {
   "display_name": "Python 3.8.12 64-bit ('cpm': conda)",
   "name": "python3"
  },
  "language_info": {
   "codemirror_mode": {
    "name": "ipython",
    "version": 3
   },
   "file_extension": ".py",
   "mimetype": "text/x-python",
   "name": "python",
   "nbconvert_exporter": "python",
   "pygments_lexer": "ipython3",
   "version": "3.8.12"
  },
  "orig_nbformat": 4
 },
 "nbformat": 4,
 "nbformat_minor": 2
}
