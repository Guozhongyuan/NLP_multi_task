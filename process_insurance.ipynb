{
 "cells": [
  {
   "cell_type": "code",
   "execution_count": 4,
   "metadata": {},
   "outputs": [],
   "source": [
    "import insuranceqa_data as insuranceqa\n",
    "train_data = insuranceqa.load_pool_train()\n",
    "test_data = insuranceqa.load_pool_test()\n",
    "valid_data = insuranceqa.load_pool_valid()\n",
    "answers_data = insuranceqa.load_pool_answers()"
   ]
  },
  {
   "cell_type": "code",
   "execution_count": 7,
   "metadata": {},
   "outputs": [],
   "source": [
    "train_list = []\n",
    "for x in train_data.values():\n",
    "    one_data = \"问题：\" + x['zh'] + \" 答案：\" + answers_data[x['answers'][0]]['zh'][1:]\n",
    "    train_list.append(one_data)\n",
    "valid_list = []\n",
    "for x in valid_data.values():\n",
    "    one_data = \"问题：\" + x['zh'] + \" 答案：\" + answers_data[x['answers'][0]]['zh'][1:]\n",
    "    valid_list.append(one_data)\n",
    "test_list = []\n",
    "for x in test_data.values():\n",
    "    one_data = \"问题：\" + x['zh'] + \" 答案：\" + answers_data[x['answers'][0]]['zh'][1:]\n",
    "    test_list.append(one_data)"
   ]
  },
  {
   "cell_type": "code",
   "execution_count": 9,
   "metadata": {},
   "outputs": [
    {
     "name": "stderr",
     "output_type": "stream",
     "text": [
      "100%|██████████| 12889/12889 [00:00<00:00, 348096.20it/s]\n"
     ]
    }
   ],
   "source": [
    "from tqdm import tqdm\n",
    "\n",
    "# train\n",
    "with open('C:/Users/GUO/OneDrive/data/train.txt', 'w', encoding='utf-8') as f_out:\n",
    "    for one_data in tqdm(train_list):\n",
    "        f_out.write(one_data + \"\\n\")\n",
    "\n",
    "# # valid\n",
    "# with open('C:/Users/GUO/OneDrive/data/valid.txt', 'w', encoding='utf-8') as f_out:\n",
    "#     for pr_pair in tqdm(valid_list):\n",
    "#         f_out.write(one_data + \"\\n\")\n",
    "\n",
    "# # test\n",
    "# with open('C:/Users/GUO/OneDrive/data/test.txt', 'w', encoding='utf-8') as f_out:\n",
    "#     for pr_pair in tqdm(test_list):\n",
    "#         f_out.write(one_data + \"\\n\")"
   ]
  }
 ],
 "metadata": {
  "interpreter": {
   "hash": "c5a0b890a7e79b4721f05b3ff9494c1f611fd8f7b88beab7f445c8fe1e25a018"
  },
  "kernelspec": {
   "display_name": "Python 3.7.11 64-bit ('cpm-finetune': conda)",
   "name": "python3"
  },
  "language_info": {
   "codemirror_mode": {
    "name": "ipython",
    "version": 3
   },
   "file_extension": ".py",
   "mimetype": "text/x-python",
   "name": "python",
   "nbconvert_exporter": "python",
   "pygments_lexer": "ipython3",
   "version": "3.7.11"
  },
  "orig_nbformat": 4
 },
 "nbformat": 4,
 "nbformat_minor": 2
}
