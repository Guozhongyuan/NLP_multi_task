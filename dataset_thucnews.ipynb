{
 "cells": [
  {
   "cell_type": "code",
   "execution_count": 12,
   "metadata": {},
   "outputs": [],
   "source": [
    "file_path = '../nlpdata/644579.txt'\n",
    "with open(file_path,\"r\") as f:\n",
    "    str = f.read()"
   ]
  },
  {
   "cell_type": "code",
   "execution_count": 13,
   "metadata": {},
   "outputs": [
    {
     "name": "stdout",
     "output_type": "stream",
     "text": [
      "金蝶纯利增长达34%创四年同期新高金蝶国际软件集团有限公司(下称“金蝶国际”或“集团”)(香港股票代码：0268)今天公布其截至2008年6月30日止的中期业绩。金蝶国际于回顾期内的营业额约为人民币422,366,000元，较2007年同期增长约27%。毛利增至约人民币331,747,000元，增幅约26%。权益持有人应占盈利为人民币53,029,000元，较2007年同期上升约34%。净利润率较2007年同期上升0.8个百分点，达到12.6%。每股基本盈利为人民币0.0284元(2007年同期：人民币0.0218元)。不派发中期股息(2007年同期：无)。2008年金蝶国际积极推行由产品型公司向服务型公司转型，建立管理专家形象战略，高端市场经营成为2008年业务重点，金蝶高端ERP产品——金蝶EAS产品软件收入比去年同期大幅增长72%，遥遥领先于国内外ERP供应商同类产品的增长。金蝶EAS以大规模应用时的性能、集成性和可用性等方面的优秀表现获得IBM颁发的灯塔(WebSphereBeaconAwardFinalist)大奖。金蝶国际董事局主席徐少春表示：“全球经济增展放缓及国内宏观经济的调整让中国企业更加关注内部管理，以提升企业运营效率及降低成本。作为重要资源管理及节省人手的工具，企业管理软件的市场需求有增无减。金蝶将继续深化推行服务转型战略，利用独特的ERP+中间件优势，在中小企业市场连续多年获得市场占有率第一的有利基础上，继续加大高端市场的投入，进一步扩大高端市场的占有率。”\n",
      "\n",
      "\n",
      "653\n"
     ]
    }
   ],
   "source": [
    "new_str = str.replace(' ', '').replace('\\n\\u3000\\u3000', '')\n",
    "print(new_str)\n",
    "print(len(new_str))"
   ]
  },
  {
   "cell_type": "code",
   "execution_count": 17,
   "metadata": {},
   "outputs": [],
   "source": [
    "import os\n",
    "def get_folders(path):\n",
    "    folders = []\n",
    "    g = os.walk(path)  \n",
    "    for path,dir_list,file_list in g:  \n",
    "        for dir_name in dir_list:\n",
    "            folders.append(dir_name)\n",
    "    return folders\n",
    "def get_files(path):\n",
    "    files = []\n",
    "    g = os.walk(path)  \n",
    "    for path,dir_list,file_list in g:  \n",
    "        for file_name in file_list:\n",
    "            files.append(dir_name)\n",
    "    return files"
   ]
  },
  {
   "cell_type": "code",
   "execution_count": null,
   "metadata": {},
   "outputs": [],
   "source": [
    "from tqdm import tqdm\n",
    "\n",
    "path = '../nlpdata/THUCNews'\n",
    "save_path = '../nlpdata/THUCNews_processed'\n",
    "folders = get_folders(path)\n",
    "print(folders)\n",
    "for folder in folders:\n",
    "    save_list = []\n",
    "    files = get_files(os.path.join(path, folder))\n",
    "    for file in tqdm(files):\n",
    "        with open(os.path.join(path, folder, file),\"r\") as f:\n",
    "            str = f.read()\n",
    "            new_str = str.replace(' ', '').replace('\\n\\u3000\\u3000', '')\n",
    "            save_list.append(new_str)\n",
    "    with open(os.path.join(save_path, folder + '.txt'),\"w+\") as f:\n",
    "        for line in save_list:\n",
    "            f.write(line + '\\n')"
   ]
  },
  {
   "cell_type": "code",
   "execution_count": 24,
   "metadata": {},
   "outputs": [
    {
     "name": "stderr",
     "output_type": "stream",
     "text": [
      "  0%|          | 0/37098 [00:00<?, ?it/s]"
     ]
    },
    {
     "name": "stdout",
     "output_type": "stream",
     "text": [
      "['financial', 'tech', 'edu', 'fashion', 'politics', 'entertainment', 'lottery', 'star', 'society', 'game', 'stock', 'home', 'sport', 'house']\n"
     ]
    },
    {
     "name": "stderr",
     "output_type": "stream",
     "text": [
      "100%|██████████| 37098/37098 [00:01<00:00, 25190.79it/s]\n",
      "100%|██████████| 162929/162929 [00:05<00:00, 28333.90it/s]\n",
      "100%|██████████| 41936/41936 [00:01<00:00, 25402.09it/s]\n",
      "100%|██████████| 13368/13368 [00:00<00:00, 30528.68it/s]\n",
      "100%|██████████| 63086/63086 [00:02<00:00, 28192.88it/s]\n",
      "100%|██████████| 92632/92632 [00:03<00:00, 24645.37it/s]\n",
      "100%|██████████| 7588/7588 [00:00<00:00, 20438.09it/s]\n",
      "100%|██████████| 3578/3578 [00:00<00:00, 23604.61it/s]\n",
      "100%|██████████| 50849/50849 [00:02<00:00, 20998.98it/s]\n",
      "100%|██████████| 24373/24373 [00:00<00:00, 28002.20it/s]\n",
      "100%|██████████| 154398/154398 [00:05<00:00, 26266.52it/s]\n",
      "100%|██████████| 32586/32586 [00:01<00:00, 28737.05it/s]\n",
      "100%|██████████| 131604/131604 [00:06<00:00, 21545.55it/s]\n",
      "100%|██████████| 20050/20050 [00:00<00:00, 26331.37it/s]\n"
     ]
    }
   ],
   "source": [
    "from tqdm import tqdm\n",
    "import random\n",
    "import json\n",
    "\n",
    "path = '../nlpdata/THUCNews'\n",
    "save_path = '../nlpdata/THUCNews_processed'\n",
    "folders = get_folders(path)\n",
    "print(folders)\n",
    "\n",
    "objs_financial = []\n",
    "objs_others = []\n",
    "\n",
    "for folder in folders:\n",
    "    if folder in ['financial', 'stock']:\n",
    "        files = get_files(os.path.join(path, folder))\n",
    "        for file in tqdm(files):\n",
    "            with open(os.path.join(path, folder, file),\"r\") as f:\n",
    "                obj = dict()\n",
    "                str = f.read()\n",
    "                new_str = str.replace(' ', '').replace('\\n\\u3000\\u3000', '')\n",
    "                obj['label_desc'] = 'news_finance'\n",
    "                obj['sentence'] = new_str\n",
    "                objs_financial.append(obj)\n",
    "    else:\n",
    "        label = 'news_' + folder\n",
    "        files = get_files(os.path.join(path, folder))\n",
    "        for file in tqdm(files):\n",
    "            with open(os.path.join(path, folder, file),\"r\") as f:\n",
    "                obj = dict()\n",
    "                str = f.read()\n",
    "                new_str = str.replace(' ', '').replace('\\n\\u3000\\u3000', '')\n",
    "                obj['label_desc'] = label\n",
    "                obj['sentence'] = new_str\n",
    "                objs_others.append(obj)\n",
    "\n",
    "random.shuffle(objs_financial)\n",
    "random.shuffle(objs_others)\n",
    "\n",
    "num = min(len(objs_financial), len(objs_others))\n",
    "objs = []\n",
    "objs.extend(objs_financial[:num])\n",
    "objs.extend(objs_others[:num])\n",
    "\n",
    "random.shuffle(objs)\n",
    "\n",
    "num = int(len(objs)*0.9)\n",
    "objs_train = objs[:num]\n",
    "objs_test = objs[num:]\n",
    "\n",
    "filename = '../nlpdata/THUCNews_processed/train_financial.json'\n",
    "with open(filename, 'w') as fout:\n",
    "    for obj in objs_train:\n",
    "        line = json.dumps(obj, ensure_ascii=False)\n",
    "        fout.write(line)\n",
    "        fout.write('\\n')\n",
    "\n",
    "filename = '../nlpdata/THUCNews_processed/test_financial.json'\n",
    "with open(filename, 'w') as fout:\n",
    "    for obj in objs_test:\n",
    "        line = json.dumps(obj, ensure_ascii=False)\n",
    "        fout.write(line)\n",
    "        fout.write('\\n')"
   ]
  }
 ],
 "metadata": {
  "interpreter": {
   "hash": "cf426626c1747c2231e550496924bf3d6568132865084069abb416574bffa72a"
  },
  "kernelspec": {
   "display_name": "Python 3.8.12 64-bit ('cpm': conda)",
   "language": "python",
   "name": "python3"
  },
  "language_info": {
   "codemirror_mode": {
    "name": "ipython",
    "version": 3
   },
   "file_extension": ".py",
   "mimetype": "text/x-python",
   "name": "python",
   "nbconvert_exporter": "python",
   "pygments_lexer": "ipython3",
   "version": "3.8.12"
  },
  "orig_nbformat": 4
 },
 "nbformat": 4,
 "nbformat_minor": 2
}
