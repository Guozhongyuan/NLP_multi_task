{
 "cells": [
  {
   "cell_type": "code",
   "execution_count": 3,
   "metadata": {},
   "outputs": [],
   "source": [
    "import pandas as pd\n",
    "\n",
    "data = pd.read_csv('../dataset/ForFinCPM_snow.csv')"
   ]
  },
  {
   "cell_type": "code",
   "execution_count": 7,
   "metadata": {},
   "outputs": [
    {
     "name": "stdout",
     "output_type": "stream",
     "text": [
      "num 2459\n"
     ]
    }
   ],
   "source": [
    "'''\n",
    "    三分类json数据集\n",
    "'''\n",
    "\n",
    "from tqdm import tqdm\n",
    "import random\n",
    "import json\n",
    "\n",
    "save_path = '../dataset/Finbert_processed'\n",
    "\n",
    "objs_positive = []\n",
    "objs_neutral = []\n",
    "objs_negative = []\n",
    "\n",
    "for i in range(0, len(data)):\n",
    "    li = data.iloc[i]\n",
    "    obj = dict()\n",
    "    obj['sentence'] = li['text']\n",
    "    if li['label'] == 1:\n",
    "        obj['label_desc'] = 'positive'\n",
    "        objs_positive.append(obj)\n",
    "    elif li['label'] == 0:\n",
    "        obj['label_desc'] = 'neutral'\n",
    "        objs_neutral.append(obj)\n",
    "    else:\n",
    "        obj['label_desc'] = 'negative'\n",
    "        objs_negative.append(obj)\n",
    "\n",
    "random.shuffle(objs_positive)\n",
    "random.shuffle(objs_neutral)\n",
    "random.shuffle(objs_negative)\n",
    "\n",
    "num = min(len(objs_positive), len(objs_neutral), len(objs_negative))\n",
    "print('num', num)\n",
    "\n",
    "objs = []\n",
    "objs.extend(objs_positive[:num])\n",
    "objs.extend(objs_neutral[:num])\n",
    "objs.extend(objs_negative[:num])\n",
    "\n",
    "random.shuffle(objs)\n",
    "\n",
    "num = int(len(objs)*0.9)\n",
    "objs_train = objs[:num]\n",
    "objs_test = objs[num:]\n",
    "\n",
    "filename = save_path + '/train_fincpm.json'\n",
    "with open(filename, 'w', encoding='utf-8') as fout:\n",
    "    for obj in objs_train:\n",
    "        line = json.dumps(obj, ensure_ascii=False)\n",
    "        fout.write(line)\n",
    "        fout.write('\\n')\n",
    "\n",
    "filename = save_path + '/test_fincpm.json'\n",
    "with open(filename, 'w', encoding='utf-8') as fout:\n",
    "    for obj in objs_test:\n",
    "        line = json.dumps(obj, ensure_ascii=False)\n",
    "        fout.write(line)\n",
    "        fout.write('\\n')"
   ]
  }
 ],
 "metadata": {
  "interpreter": {
   "hash": "cf426626c1747c2231e550496924bf3d6568132865084069abb416574bffa72a"
  },
  "kernelspec": {
   "display_name": "Python 3.8.12 64-bit ('cpm': conda)",
   "language": "python",
   "name": "python3"
  },
  "language_info": {
   "codemirror_mode": {
    "name": "ipython",
    "version": 3
   },
   "file_extension": ".py",
   "mimetype": "text/x-python",
   "name": "python",
   "nbconvert_exporter": "python",
   "pygments_lexer": "ipython3",
   "version": "3.7.11"
  },
  "orig_nbformat": 4
 },
 "nbformat": 4,
 "nbformat_minor": 2
}
