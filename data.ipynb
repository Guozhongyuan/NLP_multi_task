{
 "cells": [
  {
   "cell_type": "code",
   "execution_count": 19,
   "metadata": {},
   "outputs": [],
   "source": [
    "# FinancialPhraseBank dataset, used in finbert, translated from English to Chinese\n",
    "\n",
    "with open('data/FPB_zh_positive.txt','r',encoding='utf-8') as f:\n",
    "    text_1 = f.read()\n",
    "\n",
    "with open('data/FPB_zh_neutral.txt','r',encoding='utf-8') as f:\n",
    "    text_2 = f.read()\n",
    "\n",
    "with open('data/FPB_zh_negative.txt','r',encoding='utf-8') as f:\n",
    "    text_3 = f.read()\n",
    "\n",
    "list_1 = text_1.split('。')\n",
    "list_2 = text_2.split('。')\n",
    "list_3 = text_3.split('。')\n",
    "label_1 = [1] * len(list_1)\n",
    "label_2 = [0] * len(list_2)\n",
    "label_3 = [-1] * len(list_3)\n",
    "list_all = list_1 + list_2 + list_3\n",
    "for i, line in enumerate(list_all):\n",
    "    list_all[i] = line + '。'\n",
    "label_all = label_1 + label_2 + label_3\n",
    "\n",
    "import pandas as pd\n",
    "dataframe = pd.DataFrame({'label':label_all,'text':list_all})\n",
    "dataframe.to_csv(\"data/FinancialPhraseBank.csv\", index=False, sep=',')"
   ]
  },
  {
   "cell_type": "code",
   "execution_count": 25,
   "metadata": {},
   "outputs": [],
   "source": [
    "# 雪球网 stock headline\n",
    "# 过滤年月、公司名，加句号\n",
    "from tqdm import tqdm\n",
    "\n",
    "data = pd.read_excel('data/ChineseStockComments_7k.xlsx')\n",
    "label = data['正/负面']\n",
    "label = label.to_list()\n",
    "text = data['标题']\n",
    "text = text.to_list()\n",
    "\n",
    "for i, line in enumerate(text):\n",
    "    if '：' in line:\n",
    "        temp = line.split('：')[1] + '。'\n",
    "    else:\n",
    "        temp = line + '。'\n",
    "    temp = temp.replace('2018年', '')\n",
    "    temp = temp.replace('2017年', '')\n",
    "    temp = temp.replace('2016年', '')\n",
    "    temp = temp.replace('1月', '')\n",
    "    text[i] = temp\n",
    "\n",
    "for i, labeli in enumerate(label):\n",
    "    if labeli == 0:\n",
    "        label[i] = -1\n",
    "\n",
    "dataframe = pd.DataFrame({'label':label,'text':text})\n",
    "dataframe.to_csv(\"data/ChineseStockComments.csv\", index=False, sep=',')"
   ]
  },
  {
   "cell_type": "code",
   "execution_count": 26,
   "metadata": {},
   "outputs": [],
   "source": [
    "df1 = pd.read_csv(\"data/FinancialPhraseBank.csv\")\n",
    "df2 = pd.read_csv(\"data/ChineseStockComments.csv\")\n",
    "\n",
    "df3 = pd.concat([df1,df2],axis=0)\n",
    "df3.to_csv(\"data/ForFinCPM.csv\", index=False, sep=',')\n"
   ]
  },
  {
   "cell_type": "code",
   "execution_count": 1,
   "metadata": {},
   "outputs": [],
   "source": [
    "import pandas as pd\n",
    "df = pd.read_csv(\"data/ChineseStockComments.csv\")\n",
    "df.to_csv(\"data/ForFinCPM_snow.csv\", index=False, sep=',')"
   ]
  },
  {
   "cell_type": "code",
   "execution_count": 2,
   "metadata": {},
   "outputs": [],
   "source": [
    "import pandas as pd\n",
    "df = pd.read_csv(\"data/FinancialPhraseBank.csv\")\n",
    "df.to_csv(\"data/ForFinCPM_FPB.csv\", index=False, sep=',')"
   ]
  }
 ],
 "metadata": {
  "interpreter": {
   "hash": "c5a0b890a7e79b4721f05b3ff9494c1f611fd8f7b88beab7f445c8fe1e25a018"
  },
  "kernelspec": {
   "display_name": "Python 3.7.11 64-bit ('cpm-finetune': conda)",
   "language": "python",
   "name": "python3"
  },
  "language_info": {
   "codemirror_mode": {
    "name": "ipython",
    "version": 3
   },
   "file_extension": ".py",
   "mimetype": "text/x-python",
   "name": "python",
   "nbconvert_exporter": "python",
   "pygments_lexer": "ipython3",
   "version": "3.7.11"
  },
  "orig_nbformat": 4
 },
 "nbformat": 4,
 "nbformat_minor": 2
}
