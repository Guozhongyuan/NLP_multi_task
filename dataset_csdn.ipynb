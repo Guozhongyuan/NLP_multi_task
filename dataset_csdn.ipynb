{
 "cells": [
  {
   "cell_type": "code",
   "execution_count": 1,
   "metadata": {},
   "outputs": [],
   "source": [
    "import pandas as pd"
   ]
  },
  {
   "cell_type": "code",
   "execution_count": 2,
   "metadata": {},
   "outputs": [],
   "source": [
    "data=pd.read_csv('../dataset/data/Chinese_long/train.tsv', sep='\\t', header=0)"
   ]
  },
  {
   "cell_type": "code",
   "execution_count": null,
   "metadata": {},
   "outputs": [],
   "source": [
    "'''\n",
    "    二分类json数据集\n",
    "'''\n",
    "\n",
    "from tqdm import tqdm\n",
    "import random\n",
    "import json\n",
    "\n",
    "save_path = '../dataset/csdn_processed'\n",
    "\n",
    "objs_positive = []\n",
    "objs_negative = []\n",
    "\n",
    "for i in range(0, len(data)):\n",
    "    li = data.iloc[i]\n",
    "    obj = dict()\n",
    "    obj['sentence'] = li['text_a']\n",
    "    if li['label'] == 2:\n",
    "        obj['label_desc'] = 'positive'\n",
    "        objs_positive.append(obj)\n",
    "    elif li['label'] == -1:\n",
    "        obj['label_desc'] = 'negative'\n",
    "        objs_negative.append(obj)\n",
    "\n",
    "random.shuffle(objs_positive)\n",
    "random.shuffle(objs_negative)\n",
    "print('num_positive', len(objs_positive))\n",
    "print('num_negative', len(objs_negative))\n",
    "\n",
    "num = min(len(objs_positive), len(objs_negative))\n",
    "print('num', num)\n",
    "\n",
    "objs = []\n",
    "objs.extend(objs_positive[:num])\n",
    "objs.extend(objs_negative[:num])\n",
    "\n",
    "random.shuffle(objs)\n",
    "\n",
    "num = int(len(objs)*0.9)\n",
    "print(num)\n",
    "objs_train = objs[:num]\n",
    "objs_test = objs[num:]\n",
    "\n",
    "filename = save_path + '/train_fincpm.json'\n",
    "with open(filename, 'w', encoding='utf-8') as fout:\n",
    "    for obj in objs_train:\n",
    "        line = json.dumps(obj, ensure_ascii=False)\n",
    "        fout.write(line)\n",
    "        fout.write('\\n')\n",
    "\n",
    "filename = save_path + '/test_fincpm.json'\n",
    "with open(filename, 'w', encoding='utf-8') as fout:\n",
    "    for obj in objs_test:\n",
    "        line = json.dumps(obj, ensure_ascii=False)\n",
    "        fout.write(line)\n",
    "        fout.write('\\n')"
   ]
  }
 ],
 "metadata": {
  "interpreter": {
   "hash": "c5a0b890a7e79b4721f05b3ff9494c1f611fd8f7b88beab7f445c8fe1e25a018"
  },
  "kernelspec": {
   "display_name": "Python 3.7.11 64-bit ('cpm-finetune': conda)",
   "language": "python",
   "name": "python3"
  },
  "language_info": {
   "codemirror_mode": {
    "name": "ipython",
    "version": 3
   },
   "file_extension": ".py",
   "mimetype": "text/x-python",
   "name": "python",
   "nbconvert_exporter": "python",
   "pygments_lexer": "ipython3",
   "version": "3.7.11"
  },
  "orig_nbformat": 4
 },
 "nbformat": 4,
 "nbformat_minor": 2
}
