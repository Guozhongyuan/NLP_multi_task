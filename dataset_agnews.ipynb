{
 "cells": [
  {
   "cell_type": "code",
   "execution_count": 1,
   "metadata": {},
   "outputs": [],
   "source": [
    "import csv"
   ]
  },
  {
   "cell_type": "code",
   "execution_count": 5,
   "metadata": {},
   "outputs": [],
   "source": [
    "list_financial = []\n",
    "list_others = []\n",
    "\n",
    "with open('../dataset/AG_train.csv', 'r', encoding='utf-8') as f:\n",
    "    reader = csv.reader(f)\n",
    "    for i, row in enumerate(reader):\n",
    "        if i > 0:\n",
    "            if row[0] == '3':\n",
    "                list_financial.append(row[1]+'. '+row[2])\n",
    "            else:\n",
    "                list_others.append(row[1]+'. '+row[2])\n",
    "        "
   ]
  },
  {
   "cell_type": "code",
   "execution_count": 6,
   "metadata": {},
   "outputs": [
    {
     "name": "stdout",
     "output_type": "stream",
     "text": [
      "num 30000\n"
     ]
    }
   ],
   "source": [
    "'''\n",
    "    二分类json数据集\n",
    "'''\n",
    "\n",
    "from tqdm import tqdm\n",
    "import random\n",
    "import json\n",
    "\n",
    "save_path = '../dataset/THUCNews_processed'\n",
    "\n",
    "objs_financial = []\n",
    "objs_others = []\n",
    "\n",
    "for text in list_financial:\n",
    "    obj = dict()\n",
    "    obj['label_desc'] = 'news_finance'\n",
    "    obj['sentence'] = text\n",
    "    objs_financial.append(obj)\n",
    "\n",
    "for text in list_others:\n",
    "    label = 'news_others'\n",
    "    obj = dict()\n",
    "    obj['label_desc'] = label\n",
    "    obj['sentence'] = text\n",
    "    objs_others.append(obj)\n",
    "\n",
    "random.shuffle(objs_financial)\n",
    "random.shuffle(objs_others)\n",
    "\n",
    "num = min(len(objs_financial), len(objs_others))\n",
    "print('num', num)\n",
    "objs = []\n",
    "objs.extend(objs_financial[:num])\n",
    "objs.extend(objs_others[:num])\n",
    "\n",
    "random.shuffle(objs)\n",
    "\n",
    "num = int(len(objs)*0.9)\n",
    "objs_train = objs[:num]\n",
    "objs_test = objs[num:]\n",
    "\n",
    "filename = '../dataset/THUCNews_processed/train_financial_ag.json'\n",
    "with open(filename, 'w', encoding='utf-8') as fout:\n",
    "    for obj in objs_train:\n",
    "        line = json.dumps(obj, ensure_ascii=False)\n",
    "        fout.write(line)\n",
    "        fout.write('\\n')\n",
    "\n",
    "filename = '../dataset/THUCNews_processed/test_financial_ag.json'\n",
    "with open(filename, 'w', encoding='utf-8') as fout:\n",
    "    for obj in objs_test:\n",
    "        line = json.dumps(obj, ensure_ascii=False)\n",
    "        fout.write(line)\n",
    "        fout.write('\\n')"
   ]
  }
 ],
 "metadata": {
  "interpreter": {
   "hash": "cf426626c1747c2231e550496924bf3d6568132865084069abb416574bffa72a"
  },
  "kernelspec": {
   "display_name": "Python 3.8.12 64-bit ('cpm': conda)",
   "language": "python",
   "name": "python3"
  },
  "language_info": {
   "codemirror_mode": {
    "name": "ipython",
    "version": 3
   },
   "file_extension": ".py",
   "mimetype": "text/x-python",
   "name": "python",
   "nbconvert_exporter": "python",
   "pygments_lexer": "ipython3",
   "version": "3.8.12"
  },
  "orig_nbformat": 4
 },
 "nbformat": 4,
 "nbformat_minor": 2
}
