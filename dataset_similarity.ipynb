{
 "cells": [
  {
   "cell_type": "code",
   "execution_count": 30,
   "metadata": {},
   "outputs": [],
   "source": [
    "import pandas as pd\n",
    "from tqdm import tqdm\n",
    "\n",
    "\n",
    "\n",
    "data = pd.read_csv('../data/stock_list_info.csv')"
   ]
  },
  {
   "cell_type": "code",
   "execution_count": 31,
   "metadata": {},
   "outputs": [],
   "source": [
    "all = []\n",
    "for i in range(len(data)):\n",
    "    item = data.iloc[i]\n",
    "    all.append(\n",
    "        {\n",
    "            'stockName': item['stockName'],\n",
    "            'stockCode': str(item['stockCode']).zfill(6),\n",
    "            'indvInduName': item['indvInduName'],\n",
    "            'indvInduCode': int(item['indvInduCode']),\n",
    "            'info': '。'.join(item['info'].split('\\n')[1:3]),  # 要点二和要点三\n",
    "        }\n",
    "    )"
   ]
  },
  {
   "cell_type": "code",
   "execution_count": 32,
   "metadata": {},
   "outputs": [
    {
     "name": "stderr",
     "output_type": "stream",
     "text": [
      "100%|██████████| 2157/2157 [00:01<00:00, 1230.94it/s]\n"
     ]
    }
   ],
   "source": [
    "list_T_pairs = []\n",
    "list_F_pairs = []\n",
    "\n",
    "for i in tqdm(range(0, len(all)-1)):\n",
    "    for j in range(i, len(all)):\n",
    "\n",
    "            if all[i]['indvInduName']==all[j]['indvInduName']:\n",
    "                list_T_pairs.append([i,j])\n",
    "\n",
    "            if all[i]['indvInduName']!=all[j]['indvInduName']:\n",
    "                list_F_pairs.append([i,j])\n"
   ]
  },
  {
   "cell_type": "code",
   "execution_count": 33,
   "metadata": {},
   "outputs": [
    {
     "name": "stdout",
     "output_type": "stream",
     "text": [
      "35516\n",
      "2294044\n"
     ]
    }
   ],
   "source": [
    "print(len(list_T_pairs))\n",
    "print(len(list_F_pairs))"
   ]
  },
  {
   "cell_type": "code",
   "execution_count": 34,
   "metadata": {},
   "outputs": [
    {
     "data": {
      "text/plain": [
       "{'stockName': '明阳智能',\n",
       " 'stockCode': '601615',\n",
       " 'indvInduName': '风电设备',\n",
       " 'indvInduCode': 1032,\n",
       " 'info': '要点二:经营范围 生产经营风力发电主机装备及相关电力电子产品;风电工程技术及风力发电相关技术咨询、技术进出口业务;高技术绿色电池(含太阳能电池)、新能源发电成套设备、关键设备及相关工程技术咨询、技术进出口业务;风电场运营管理、技术咨询及运维服务;能源系统的开发;能源项目投资、开发及经营管理;新能源、分布式能源、储能项目的投资、建设、运营;电力需求侧管理、能效管理;承装、承修、承试电力设施。(上述经营业务不涉及国家限制、禁止类、会计、审计)。(依法须经批准的项目,经相关部门批准后方可开展经营活动。)(以上项目不涉及外商投资准入特别管理措施)。要点三:新能源高端装备制造 大型风力发电机组及其核心部件的研发、生产、销售、智能化运维;风电场及光伏电站开发、投资、建设和智能运营管理。'}"
      ]
     },
     "execution_count": 34,
     "metadata": {},
     "output_type": "execute_result"
    }
   ],
   "source": [
    "# dataloader 每epoch 随机选取 list_F_pairs 中的三万个\n",
    "all[0]"
   ]
  },
  {
   "cell_type": "code",
   "execution_count": null,
   "metadata": {},
   "outputs": [],
   "source": []
  }
 ],
 "metadata": {
  "interpreter": {
   "hash": "15d51a80c8523c0d895fb35f7540c75abd446de76bbe33959811c01c8d0e84fa"
  },
  "kernelspec": {
   "display_name": "Python 3.8.13 ('gpt')",
   "language": "python",
   "name": "python3"
  },
  "language_info": {
   "codemirror_mode": {
    "name": "ipython",
    "version": 3
   },
   "file_extension": ".py",
   "mimetype": "text/x-python",
   "name": "python",
   "nbconvert_exporter": "python",
   "pygments_lexer": "ipython3",
   "version": "3.8.13"
  },
  "orig_nbformat": 4
 },
 "nbformat": 4,
 "nbformat_minor": 2
}
