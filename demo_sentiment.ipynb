{
 "cells": [
  {
   "cell_type": "code",
   "execution_count": 5,
   "metadata": {},
   "outputs": [],
   "source": [
    "import torch\n",
    "import torch.nn as nn\n",
    "from GPT2 import GPT2Model, GPT2Tokenizer\n",
    "import os\n",
    "os.environ['CUDA_VISIBLE_DEVICES'] = ''\n",
    "device = 'cpu' #'cuda'\n",
    "\n",
    "def tokenize_input(inputStr, tokenizer, seq_length=1024):\n",
    "    pad_id = tokenizer.encoder['<pad>']\n",
    "    tokenized_sentence = tokenizer.encode(inputStr)[:seq_length-20]\n",
    "    tokens = tokenized_sentence\n",
    "    token_length = len(tokens)\n",
    "    tokens.extend([pad_id] * (seq_length - token_length))\n",
    "    tokens = torch.tensor(tokens, dtype=torch.long)\n",
    "    return tokens.reshape(1,1024), [token_length]\n",
    "\n",
    "tokenizer = GPT2Tokenizer(\n",
    "    'GPT2/bpe/vocab.json',\n",
    "    'GPT2/bpe/chinese_vocab.model',\n",
    "    max_len=512)\n",
    "    \n",
    "class GPT2classification(nn.Module):\n",
    "    def __init__(self):\n",
    "        super(GPT2classification, self).__init__()\n",
    "        \n",
    "        self.GPT2model = GPT2Model(\n",
    "                            vocab_size=30000,\n",
    "                            layer_size=12,\n",
    "                            block_size=1024,\n",
    "                            embedding_dropout=0.0,\n",
    "                            embedding_size=768,\n",
    "                            num_attention_heads=12,\n",
    "                            attention_dropout=0.0,\n",
    "                            residual_dropout=0.0)\n",
    "\n",
    "        self.mlp =  nn.Sequential(\n",
    "                nn.Linear(30000, 512),\n",
    "                nn.ReLU(),\n",
    "                nn.Linear(512, 256),\n",
    "                nn.ReLU(),\n",
    "                nn.Linear(256, 3),\n",
    "            )\n",
    "\n",
    "    def forward(self, x, length):\n",
    "        x = self.GPT2model(x)\n",
    "        classify = []\n",
    "        for i in range(len(length)):\n",
    "            classify.append(x[i, length[i]].view(-1))\n",
    "        classify = torch.stack(classify)\n",
    "        x = self.mlp(classify)\n",
    "        return x\n",
    "\n",
    "model = torch.load(\"./models/financial_sentiment.pth\", 'cpu')\n",
    "model.eval()\n",
    "model.to(device)"
   ]
  },
  {
   "cell_type": "code",
   "execution_count": 15,
   "metadata": {},
   "outputs": [
    {
     "name": "stdout",
     "output_type": "stream",
     "text": [
      "negative neutral possitive: [0.74180526 0.1355453  0.12264954]\n"
     ]
    }
   ],
   "source": [
    "inputStr = '这股票估计会大跌'  # the text you want to classify\n",
    "\n",
    "tokens, token_length = tokenize_input(inputStr, tokenizer, seq_length=1024)\n",
    "output = model(tokens, token_length)\n",
    "output = torch.softmax(output, dim=1)\n",
    "\n",
    "print('negative neutral possitive:', output[0].detach().numpy())"
   ]
  }
 ],
 "metadata": {
  "interpreter": {
   "hash": "c5a0b890a7e79b4721f05b3ff9494c1f611fd8f7b88beab7f445c8fe1e25a018"
  },
  "kernelspec": {
   "display_name": "Python 3.7.11 64-bit ('cpm-finetune': conda)",
   "language": "python",
   "name": "python3"
  },
  "language_info": {
   "codemirror_mode": {
    "name": "ipython",
    "version": 3
   },
   "file_extension": ".py",
   "mimetype": "text/x-python",
   "name": "python",
   "nbconvert_exporter": "python",
   "pygments_lexer": "ipython3",
   "version": "3.7.11"
  },
  "orig_nbformat": 4
 },
 "nbformat": 4,
 "nbformat_minor": 2
}
